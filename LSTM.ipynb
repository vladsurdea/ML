{
  "nbformat": 4,
  "nbformat_minor": 0,
  "metadata": {
    "accelerator": "GPU",
    "colab": {
      "name": "LSTM",
      "provenance": [],
      "collapsed_sections": []
    },
    "kernelspec": {
      "display_name": "Python 3",
      "name": "python3"
    },
    "language_info": {
      "name": "python"
    }
  },
  "cells": [
    {
      "cell_type": "markdown",
      "metadata": {
        "id": "kkmawMyqikxA"
      },
      "source": [
        "# **EDF with LSTM-based RNNs in Romania**\n",
        "\n",
        "This implementation proposes the use of a LSTM-based RNN for the purpose of Electricity Demand Forecasting (EDF) in Romania."
      ]
    },
    {
      "cell_type": "markdown",
      "metadata": {
        "id": "iRGFTgXejyAH"
      },
      "source": [
        "# Data pre-processing "
      ]
    },
    {
      "cell_type": "code",
      "metadata": {
        "id": "7KlUIKzJd6CW"
      },
      "source": [
        "#import the necessary packages\n",
        "\n",
        "import pandas as pd\n",
        "import numpy as np\n",
        "import matplotlib.pyplot as plt\n",
        "import seaborn as sns\n",
        "import pprint\n",
        "from matplotlib import style\n",
        "from sklearn.preprocessing import MinMaxScaler\n",
        "from keras.models import Sequential\n",
        "from keras.layers import Dense,LSTM\n",
        "from tensorflow.keras.layers import Dense, Dropout\n",
        "%matplotlib inline"
      ],
      "execution_count": null,
      "outputs": []
    },
    {
      "cell_type": "code",
      "metadata": {
        "colab": {
          "base_uri": "https://localhost:8080/",
          "height": 335
        },
        "id": "feh3cpV3rEHV",
        "outputId": "0fb6571e-02c7-4742-9668-8c0fb6cdf274"
      },
      "source": [
        "#import the dataset from GitHub\n",
        "url = \"https://raw.githubusercontent.com/vladsurdea/ML/main/Data/RomaniaEDF.csv\"\n",
        "df= pd.read_csv(url)\n",
        "\n",
        "#get rid of missing values\n",
        "\n",
        "#inspect the dataset\n",
        "df=df.dropna()\n",
        "df.sample(10)"
      ],
      "execution_count": null,
      "outputs": [
        {
          "output_type": "execute_result",
          "data": {
            "text/html": [
              "<div>\n",
              "<style scoped>\n",
              "    .dataframe tbody tr th:only-of-type {\n",
              "        vertical-align: middle;\n",
              "    }\n",
              "\n",
              "    .dataframe tbody tr th {\n",
              "        vertical-align: top;\n",
              "    }\n",
              "\n",
              "    .dataframe thead th {\n",
              "        text-align: right;\n",
              "    }\n",
              "</style>\n",
              "<table border=\"1\" class=\"dataframe\">\n",
              "  <thead>\n",
              "    <tr style=\"text-align: right;\">\n",
              "      <th></th>\n",
              "      <th>Year</th>\n",
              "      <th>Month</th>\n",
              "      <th>Day</th>\n",
              "      <th>Hour</th>\n",
              "      <th>Value</th>\n",
              "    </tr>\n",
              "  </thead>\n",
              "  <tbody>\n",
              "    <tr>\n",
              "      <th>58692</th>\n",
              "      <td>2012</td>\n",
              "      <td>9</td>\n",
              "      <td>11</td>\n",
              "      <td>12</td>\n",
              "      <td>6367.0</td>\n",
              "    </tr>\n",
              "    <tr>\n",
              "      <th>119488</th>\n",
              "      <td>2019</td>\n",
              "      <td>8</td>\n",
              "      <td>19</td>\n",
              "      <td>14</td>\n",
              "      <td>6772.0</td>\n",
              "    </tr>\n",
              "    <tr>\n",
              "      <th>1616</th>\n",
              "      <td>2006</td>\n",
              "      <td>3</td>\n",
              "      <td>9</td>\n",
              "      <td>8</td>\n",
              "      <td>6931.0</td>\n",
              "    </tr>\n",
              "    <tr>\n",
              "      <th>4640</th>\n",
              "      <td>2006</td>\n",
              "      <td>7</td>\n",
              "      <td>13</td>\n",
              "      <td>8</td>\n",
              "      <td>5700.0</td>\n",
              "    </tr>\n",
              "    <tr>\n",
              "      <th>54426</th>\n",
              "      <td>2012</td>\n",
              "      <td>3</td>\n",
              "      <td>17</td>\n",
              "      <td>18</td>\n",
              "      <td>7010.0</td>\n",
              "    </tr>\n",
              "    <tr>\n",
              "      <th>85422</th>\n",
              "      <td>2015</td>\n",
              "      <td>9</td>\n",
              "      <td>30</td>\n",
              "      <td>6</td>\n",
              "      <td>6049.0</td>\n",
              "    </tr>\n",
              "    <tr>\n",
              "      <th>14861</th>\n",
              "      <td>2007</td>\n",
              "      <td>9</td>\n",
              "      <td>12</td>\n",
              "      <td>5</td>\n",
              "      <td>5564.0</td>\n",
              "    </tr>\n",
              "    <tr>\n",
              "      <th>27562</th>\n",
              "      <td>2009</td>\n",
              "      <td>2</td>\n",
              "      <td>22</td>\n",
              "      <td>10</td>\n",
              "      <td>5629.0</td>\n",
              "    </tr>\n",
              "    <tr>\n",
              "      <th>15737</th>\n",
              "      <td>2007</td>\n",
              "      <td>10</td>\n",
              "      <td>18</td>\n",
              "      <td>17</td>\n",
              "      <td>6445.0</td>\n",
              "    </tr>\n",
              "    <tr>\n",
              "      <th>28945</th>\n",
              "      <td>2009</td>\n",
              "      <td>4</td>\n",
              "      <td>21</td>\n",
              "      <td>1</td>\n",
              "      <td>4019.0</td>\n",
              "    </tr>\n",
              "  </tbody>\n",
              "</table>\n",
              "</div>"
            ],
            "text/plain": [
              "        Year  Month  Day  Hour   Value\n",
              "58692   2012      9   11    12  6367.0\n",
              "119488  2019      8   19    14  6772.0\n",
              "1616    2006      3    9     8  6931.0\n",
              "4640    2006      7   13     8  5700.0\n",
              "54426   2012      3   17    18  7010.0\n",
              "85422   2015      9   30     6  6049.0\n",
              "14861   2007      9   12     5  5564.0\n",
              "27562   2009      2   22    10  5629.0\n",
              "15737   2007     10   18    17  6445.0\n",
              "28945   2009      4   21     1  4019.0"
            ]
          },
          "metadata": {
            "tags": []
          },
          "execution_count": 5
        }
      ]
    },
    {
      "cell_type": "code",
      "metadata": {
        "colab": {
          "base_uri": "https://localhost:8080/",
          "height": 622
        },
        "id": "SsRegM6UrPE3",
        "outputId": "f458bf8f-1f2c-48b3-e261-c21e1b5e3817"
      },
      "source": [
        "# create datetime variable\n",
        "df[\"Datetime\"]=pd.to_datetime(df[[\"Year\", \"Month\", \"Day\", \"Hour\"]])\n",
        "del df[\"Year\"]\n",
        "del df[\"Month\"]\n",
        "del df[\"Day\"]\n",
        "del df[\"Hour\"]\n",
        "\n",
        "#inspect the new dataset\n",
        "df.sample(20)"
      ],
      "execution_count": null,
      "outputs": [
        {
          "output_type": "execute_result",
          "data": {
            "text/html": [
              "<div>\n",
              "<style scoped>\n",
              "    .dataframe tbody tr th:only-of-type {\n",
              "        vertical-align: middle;\n",
              "    }\n",
              "\n",
              "    .dataframe tbody tr th {\n",
              "        vertical-align: top;\n",
              "    }\n",
              "\n",
              "    .dataframe thead th {\n",
              "        text-align: right;\n",
              "    }\n",
              "</style>\n",
              "<table border=\"1\" class=\"dataframe\">\n",
              "  <thead>\n",
              "    <tr style=\"text-align: right;\">\n",
              "      <th></th>\n",
              "      <th>Value</th>\n",
              "      <th>Datetime</th>\n",
              "    </tr>\n",
              "  </thead>\n",
              "  <tbody>\n",
              "    <tr>\n",
              "      <th>24073</th>\n",
              "      <td>5352.0</td>\n",
              "      <td>2008-09-30 01:00:00</td>\n",
              "    </tr>\n",
              "    <tr>\n",
              "      <th>40565</th>\n",
              "      <td>5115.0</td>\n",
              "      <td>2010-08-18 05:00:00</td>\n",
              "    </tr>\n",
              "    <tr>\n",
              "      <th>91737</th>\n",
              "      <td>4967.0</td>\n",
              "      <td>2016-06-19 07:00:00</td>\n",
              "    </tr>\n",
              "    <tr>\n",
              "      <th>103201</th>\n",
              "      <td>7594.0</td>\n",
              "      <td>2017-10-09 21:00:00</td>\n",
              "    </tr>\n",
              "    <tr>\n",
              "      <th>110202</th>\n",
              "      <td>6168.0</td>\n",
              "      <td>2018-07-28 16:00:00</td>\n",
              "    </tr>\n",
              "    <tr>\n",
              "      <th>42317</th>\n",
              "      <td>5718.0</td>\n",
              "      <td>2010-10-30 05:00:00</td>\n",
              "    </tr>\n",
              "    <tr>\n",
              "      <th>35969</th>\n",
              "      <td>7091.0</td>\n",
              "      <td>2010-02-07 17:00:00</td>\n",
              "    </tr>\n",
              "    <tr>\n",
              "      <th>55299</th>\n",
              "      <td>4781.0</td>\n",
              "      <td>2012-04-23 03:00:00</td>\n",
              "    </tr>\n",
              "    <tr>\n",
              "      <th>108643</th>\n",
              "      <td>6690.0</td>\n",
              "      <td>2018-05-24 17:00:00</td>\n",
              "    </tr>\n",
              "    <tr>\n",
              "      <th>32831</th>\n",
              "      <td>5014.0</td>\n",
              "      <td>2009-09-29 23:00:00</td>\n",
              "    </tr>\n",
              "    <tr>\n",
              "      <th>99294</th>\n",
              "      <td>5056.0</td>\n",
              "      <td>2017-04-30 09:00:00</td>\n",
              "    </tr>\n",
              "    <tr>\n",
              "      <th>98059</th>\n",
              "      <td>6638.0</td>\n",
              "      <td>2017-03-09 21:00:00</td>\n",
              "    </tr>\n",
              "    <tr>\n",
              "      <th>98999</th>\n",
              "      <td>5170.0</td>\n",
              "      <td>2017-04-17 21:00:00</td>\n",
              "    </tr>\n",
              "    <tr>\n",
              "      <th>97229</th>\n",
              "      <td>6508.0</td>\n",
              "      <td>2017-02-03 09:00:00</td>\n",
              "    </tr>\n",
              "    <tr>\n",
              "      <th>9963</th>\n",
              "      <td>5877.0</td>\n",
              "      <td>2007-02-20 03:00:00</td>\n",
              "    </tr>\n",
              "    <tr>\n",
              "      <th>7271</th>\n",
              "      <td>5599.0</td>\n",
              "      <td>2006-10-30 23:00:00</td>\n",
              "    </tr>\n",
              "    <tr>\n",
              "      <th>28351</th>\n",
              "      <td>6522.0</td>\n",
              "      <td>2009-03-27 07:00:00</td>\n",
              "    </tr>\n",
              "    <tr>\n",
              "      <th>22242</th>\n",
              "      <td>6497.0</td>\n",
              "      <td>2008-07-15 18:00:00</td>\n",
              "    </tr>\n",
              "    <tr>\n",
              "      <th>21189</th>\n",
              "      <td>5773.0</td>\n",
              "      <td>2008-06-01 21:00:00</td>\n",
              "    </tr>\n",
              "    <tr>\n",
              "      <th>20262</th>\n",
              "      <td>6266.0</td>\n",
              "      <td>2008-04-24 06:00:00</td>\n",
              "    </tr>\n",
              "  </tbody>\n",
              "</table>\n",
              "</div>"
            ],
            "text/plain": [
              "         Value            Datetime\n",
              "24073   5352.0 2008-09-30 01:00:00\n",
              "40565   5115.0 2010-08-18 05:00:00\n",
              "91737   4967.0 2016-06-19 07:00:00\n",
              "103201  7594.0 2017-10-09 21:00:00\n",
              "110202  6168.0 2018-07-28 16:00:00\n",
              "42317   5718.0 2010-10-30 05:00:00\n",
              "35969   7091.0 2010-02-07 17:00:00\n",
              "55299   4781.0 2012-04-23 03:00:00\n",
              "108643  6690.0 2018-05-24 17:00:00\n",
              "32831   5014.0 2009-09-29 23:00:00\n",
              "99294   5056.0 2017-04-30 09:00:00\n",
              "98059   6638.0 2017-03-09 21:00:00\n",
              "98999   5170.0 2017-04-17 21:00:00\n",
              "97229   6508.0 2017-02-03 09:00:00\n",
              "9963    5877.0 2007-02-20 03:00:00\n",
              "7271    5599.0 2006-10-30 23:00:00\n",
              "28351   6522.0 2009-03-27 07:00:00\n",
              "22242   6497.0 2008-07-15 18:00:00\n",
              "21189   5773.0 2008-06-01 21:00:00\n",
              "20262   6266.0 2008-04-24 06:00:00"
            ]
          },
          "metadata": {
            "tags": []
          },
          "execution_count": 6
        }
      ]
    },
    {
      "cell_type": "code",
      "metadata": {
        "colab": {
          "base_uri": "https://localhost:8080/",
          "height": 396
        },
        "id": "TFwEcYH3rvdk",
        "outputId": "a9b0c983-cdff-4a47-a2d9-596218265738"
      },
      "source": [
        "# Other data wrangling steps\n",
        "dataset=df\n",
        "dataset[\"Month\"] = pd.to_datetime(df[\"Datetime\"]).dt.month\n",
        "dataset[\"Year\"] = pd.to_datetime(df[\"Datetime\"]).dt.year\n",
        "dataset[\"Date\"] = pd.to_datetime(df[\"Datetime\"]).dt.date\n",
        "dataset[\"Time\"] = pd.to_datetime(df[\"Datetime\"]).dt.time\n",
        "dataset[\"Week\"] = pd.to_datetime(df[\"Datetime\"]).dt.week\n",
        "dataset[\"Day\"] = pd.to_datetime(df[\"Datetime\"]).dt.day_name()\n",
        "\n",
        "#Set datetime variable as index\n",
        "dataset = df.set_index(\"Datetime\")\n",
        "dataset.index = pd.to_datetime(dataset.index)\n",
        "dataset.sample(10)"
      ],
      "execution_count": null,
      "outputs": [
        {
          "output_type": "stream",
          "text": [
            "/usr/local/lib/python3.7/dist-packages/ipykernel_launcher.py:7: FutureWarning: Series.dt.weekofyear and Series.dt.week have been deprecated.  Please use Series.dt.isocalendar().week instead.\n",
            "  import sys\n"
          ],
          "name": "stderr"
        },
        {
          "output_type": "execute_result",
          "data": {
            "text/html": [
              "<div>\n",
              "<style scoped>\n",
              "    .dataframe tbody tr th:only-of-type {\n",
              "        vertical-align: middle;\n",
              "    }\n",
              "\n",
              "    .dataframe tbody tr th {\n",
              "        vertical-align: top;\n",
              "    }\n",
              "\n",
              "    .dataframe thead th {\n",
              "        text-align: right;\n",
              "    }\n",
              "</style>\n",
              "<table border=\"1\" class=\"dataframe\">\n",
              "  <thead>\n",
              "    <tr style=\"text-align: right;\">\n",
              "      <th></th>\n",
              "      <th>Value</th>\n",
              "      <th>Month</th>\n",
              "      <th>Year</th>\n",
              "      <th>Date</th>\n",
              "      <th>Time</th>\n",
              "      <th>Week</th>\n",
              "      <th>Day</th>\n",
              "    </tr>\n",
              "    <tr>\n",
              "      <th>Datetime</th>\n",
              "      <th></th>\n",
              "      <th></th>\n",
              "      <th></th>\n",
              "      <th></th>\n",
              "      <th></th>\n",
              "      <th></th>\n",
              "      <th></th>\n",
              "    </tr>\n",
              "  </thead>\n",
              "  <tbody>\n",
              "    <tr>\n",
              "      <th>2016-12-06 16:00:00</th>\n",
              "      <td>8242.0</td>\n",
              "      <td>12</td>\n",
              "      <td>2016</td>\n",
              "      <td>2016-12-06</td>\n",
              "      <td>16:00:00</td>\n",
              "      <td>49</td>\n",
              "      <td>Tuesday</td>\n",
              "    </tr>\n",
              "    <tr>\n",
              "      <th>2008-10-10 00:00:00</th>\n",
              "      <td>5555.0</td>\n",
              "      <td>10</td>\n",
              "      <td>2008</td>\n",
              "      <td>2008-10-10</td>\n",
              "      <td>00:00:00</td>\n",
              "      <td>41</td>\n",
              "      <td>Friday</td>\n",
              "    </tr>\n",
              "    <tr>\n",
              "      <th>2016-04-02 06:00:00</th>\n",
              "      <td>4886.0</td>\n",
              "      <td>4</td>\n",
              "      <td>2016</td>\n",
              "      <td>2016-04-02</td>\n",
              "      <td>06:00:00</td>\n",
              "      <td>13</td>\n",
              "      <td>Saturday</td>\n",
              "    </tr>\n",
              "    <tr>\n",
              "      <th>2010-11-21 23:00:00</th>\n",
              "      <td>4982.0</td>\n",
              "      <td>11</td>\n",
              "      <td>2010</td>\n",
              "      <td>2010-11-21</td>\n",
              "      <td>23:00:00</td>\n",
              "      <td>46</td>\n",
              "      <td>Sunday</td>\n",
              "    </tr>\n",
              "    <tr>\n",
              "      <th>2012-09-27 06:00:00</th>\n",
              "      <td>5927.0</td>\n",
              "      <td>9</td>\n",
              "      <td>2012</td>\n",
              "      <td>2012-09-27</td>\n",
              "      <td>06:00:00</td>\n",
              "      <td>39</td>\n",
              "      <td>Thursday</td>\n",
              "    </tr>\n",
              "    <tr>\n",
              "      <th>2017-10-01 09:00:00</th>\n",
              "      <td>5098.0</td>\n",
              "      <td>10</td>\n",
              "      <td>2017</td>\n",
              "      <td>2017-10-01</td>\n",
              "      <td>09:00:00</td>\n",
              "      <td>39</td>\n",
              "      <td>Sunday</td>\n",
              "    </tr>\n",
              "    <tr>\n",
              "      <th>2015-01-07 04:00:00</th>\n",
              "      <td>5961.0</td>\n",
              "      <td>1</td>\n",
              "      <td>2015</td>\n",
              "      <td>2015-01-07</td>\n",
              "      <td>04:00:00</td>\n",
              "      <td>2</td>\n",
              "      <td>Wednesday</td>\n",
              "    </tr>\n",
              "    <tr>\n",
              "      <th>2013-08-29 00:00:00</th>\n",
              "      <td>4680.0</td>\n",
              "      <td>8</td>\n",
              "      <td>2013</td>\n",
              "      <td>2013-08-29</td>\n",
              "      <td>00:00:00</td>\n",
              "      <td>35</td>\n",
              "      <td>Thursday</td>\n",
              "    </tr>\n",
              "    <tr>\n",
              "      <th>2008-03-20 19:00:00</th>\n",
              "      <td>7778.0</td>\n",
              "      <td>3</td>\n",
              "      <td>2008</td>\n",
              "      <td>2008-03-20</td>\n",
              "      <td>19:00:00</td>\n",
              "      <td>12</td>\n",
              "      <td>Thursday</td>\n",
              "    </tr>\n",
              "    <tr>\n",
              "      <th>2015-11-02 14:00:00</th>\n",
              "      <td>6168.0</td>\n",
              "      <td>11</td>\n",
              "      <td>2015</td>\n",
              "      <td>2015-11-02</td>\n",
              "      <td>14:00:00</td>\n",
              "      <td>45</td>\n",
              "      <td>Monday</td>\n",
              "    </tr>\n",
              "  </tbody>\n",
              "</table>\n",
              "</div>"
            ],
            "text/plain": [
              "                      Value  Month  Year        Date      Time  Week        Day\n",
              "Datetime                                                                       \n",
              "2016-12-06 16:00:00  8242.0     12  2016  2016-12-06  16:00:00    49    Tuesday\n",
              "2008-10-10 00:00:00  5555.0     10  2008  2008-10-10  00:00:00    41     Friday\n",
              "2016-04-02 06:00:00  4886.0      4  2016  2016-04-02  06:00:00    13   Saturday\n",
              "2010-11-21 23:00:00  4982.0     11  2010  2010-11-21  23:00:00    46     Sunday\n",
              "2012-09-27 06:00:00  5927.0      9  2012  2012-09-27  06:00:00    39   Thursday\n",
              "2017-10-01 09:00:00  5098.0     10  2017  2017-10-01  09:00:00    39     Sunday\n",
              "2015-01-07 04:00:00  5961.0      1  2015  2015-01-07  04:00:00     2  Wednesday\n",
              "2013-08-29 00:00:00  4680.0      8  2013  2013-08-29  00:00:00    35   Thursday\n",
              "2008-03-20 19:00:00  7778.0      3  2008  2008-03-20  19:00:00    12   Thursday\n",
              "2015-11-02 14:00:00  6168.0     11  2015  2015-11-02  14:00:00    45     Monday"
            ]
          },
          "metadata": {
            "tags": []
          },
          "execution_count": 7
        }
      ]
    },
    {
      "cell_type": "markdown",
      "metadata": {
        "id": "Yn71oUVjjqW2"
      },
      "source": [
        "# Split dataset into testing and training data"
      ]
    },
    {
      "cell_type": "code",
      "metadata": {
        "id": "kOZsZk9Qr5z9"
      },
      "source": [
        "TestData = NewDataSet.tail(100)\n",
        "\n",
        "Training_Set = NewDataSet.iloc[:,0:1]\n",
        "\n",
        "Training_Set = Training_Set[:-60]"
      ],
      "execution_count": null,
      "outputs": []
    },
    {
      "cell_type": "code",
      "metadata": {
        "id": "6uTfNucwr6qO"
      },
      "source": [
        "Training_Set = Training_Set\n",
        "sc = MinMaxScaler(feature_range=(0, 1))\n",
        "Train = sc.fit_transform(Training_Set)\n",
        "\n",
        "\n"
      ],
      "execution_count": null,
      "outputs": []
    },
    {
      "cell_type": "code",
      "metadata": {
        "colab": {
          "base_uri": "https://localhost:8080/"
        },
        "id": "BAwcRcZFr_eH",
        "outputId": "43bd7636-27c9-45ab-b6bf-91392167b444"
      },
      "source": [
        "\n",
        "X_Train = []\n",
        "Y_Train = []\n",
        "\n",
        "for i in range(60, Train.shape[0]):\n",
        "    X_Train.append(Train[i-60:i])\n",
        "    Y_Train.append(Train[i])\n",
        "\n",
        "X_Train = np.array(X_Train)\n",
        "Y_Train = np.array(Y_Train)\n"
      ],
      "execution_count": null,
      "outputs": [
        {
          "output_type": "stream",
          "text": [
            "(4871, 60, 1)\n",
            "(4871, 1)\n"
          ],
          "name": "stdout"
        }
      ]
    },
    {
      "cell_type": "code",
      "metadata": {
        "colab": {
          "base_uri": "https://localhost:8080/"
        },
        "id": "CM8LtW4BsEQW",
        "outputId": "19075159-363c-4e78-ba3c-ddcfbc6f0a6b"
      },
      "source": [
        "X_Train = np.reshape(X_Train, newshape=(X_Train.shape[0], X_Train.shape[1], 1))\n",
        "X_Train.shape"
      ],
      "execution_count": null,
      "outputs": [
        {
          "output_type": "execute_result",
          "data": {
            "text/plain": [
              "(4871, 60, 1)"
            ]
          },
          "metadata": {
            "tags": []
          },
          "execution_count": 42
        }
      ]
    },
    {
      "cell_type": "markdown",
      "metadata": {
        "id": "NmNObobFkI3k"
      },
      "source": [
        "# Building the LSTM-based RNN"
      ]
    },
    {
      "cell_type": "code",
      "metadata": {
        "id": "v12gU-eCsGAv"
      },
      "source": [
        "regressor = Sequential()\n",
        "\n",
        "# Adding the first LSTM layer and some Dropout regularisation\n",
        "regressor.add(LSTM(units = 50, return_sequences = True, input_shape = (X_Train.shape[1], 1)))\n",
        "regressor.add(Dropout(0.2))\n",
        "\n",
        "# Adding a second LSTM layer and some Dropout regularisation\n",
        "regressor.add(LSTM(units = 50, return_sequences = True))\n",
        "regressor.add(Dropout(0.2))\n",
        "\n",
        "# Adding a third LSTM layer and some Dropout regularisation\n",
        "regressor.add(LSTM(units = 50, return_sequences = True))\n",
        "regressor.add(Dropout(0.2))\n",
        "\n",
        "# Adding a fourth LSTM layer and some Dropout regularisation\n",
        "regressor.add(LSTM(units = 50))\n",
        "regressor.add(Dropout(0.2))\n",
        "\n",
        "# Adding the output layer\n",
        "regressor.add(Dense(units = 1))\n",
        "\n",
        "# Compiling the LSTM-based RNN\n",
        "regressor.compile(optimizer = 'adam', loss = 'mean_squared_error')"
      ],
      "execution_count": null,
      "outputs": []
    },
    {
      "cell_type": "code",
      "metadata": {
        "colab": {
          "background_save": true,
          "base_uri": "https://localhost:8080/"
        },
        "id": "9yUHKfbmsIsJ",
        "outputId": "7dfd5179-0ad6-4296-cfff-dbf43cbf737a"
      },
      "source": [
        "# Compiling the LSTM-based RNN\n",
        "regressor.fit(X_Train, Y_Train, epochs = 100, batch_size = 32)"
      ],
      "execution_count": null,
      "outputs": [
        {
          "output_type": "stream",
          "text": [
            "Epoch 1/100\n",
            "153/153 [==============================] - 16s 61ms/step - loss: 0.0496\n",
            "Epoch 2/100\n",
            "153/153 [==============================] - 9s 61ms/step - loss: 0.0181\n",
            "Epoch 3/100\n",
            "153/153 [==============================] - 9s 61ms/step - loss: 0.0160\n",
            "Epoch 4/100\n",
            "153/153 [==============================] - 9s 61ms/step - loss: 0.0166\n",
            "Epoch 5/100\n",
            "153/153 [==============================] - 9s 61ms/step - loss: 0.0160\n",
            "Epoch 6/100\n",
            "153/153 [==============================] - 9s 61ms/step - loss: 0.0152\n",
            "Epoch 7/100\n",
            "153/153 [==============================] - 9s 61ms/step - loss: 0.0141\n",
            "Epoch 8/100\n",
            "153/153 [==============================] - 9s 61ms/step - loss: 0.0148\n",
            "Epoch 9/100\n",
            "153/153 [==============================] - 9s 61ms/step - loss: 0.0145\n",
            "Epoch 10/100\n",
            "153/153 [==============================] - 9s 61ms/step - loss: 0.0138\n",
            "Epoch 11/100\n",
            "153/153 [==============================] - 9s 61ms/step - loss: 0.0146\n",
            "Epoch 12/100\n",
            "153/153 [==============================] - 9s 61ms/step - loss: 0.0136\n",
            "Epoch 13/100\n",
            "153/153 [==============================] - 9s 61ms/step - loss: 0.0125\n",
            "Epoch 14/100\n",
            "153/153 [==============================] - 9s 61ms/step - loss: 0.0092\n",
            "Epoch 15/100\n",
            "153/153 [==============================] - 9s 61ms/step - loss: 0.0084\n",
            "Epoch 16/100\n",
            "153/153 [==============================] - 9s 61ms/step - loss: 0.0077\n",
            "Epoch 17/100\n",
            "153/153 [==============================] - 9s 60ms/step - loss: 0.0071\n",
            "Epoch 18/100\n",
            "153/153 [==============================] - 9s 61ms/step - loss: 0.0066\n",
            "Epoch 19/100\n",
            "153/153 [==============================] - 9s 61ms/step - loss: 0.0064\n",
            "Epoch 20/100\n",
            "153/153 [==============================] - 9s 61ms/step - loss: 0.0056\n",
            "Epoch 21/100\n",
            "153/153 [==============================] - 9s 61ms/step - loss: 0.0059\n",
            "Epoch 22/100\n",
            "153/153 [==============================] - 9s 60ms/step - loss: 0.0056\n",
            "Epoch 23/100\n",
            "153/153 [==============================] - 9s 61ms/step - loss: 0.0059\n",
            "Epoch 24/100\n",
            "153/153 [==============================] - 9s 61ms/step - loss: 0.0059\n",
            "Epoch 25/100\n",
            "153/153 [==============================] - 9s 61ms/step - loss: 0.0053\n",
            "Epoch 26/100\n",
            "153/153 [==============================] - 9s 61ms/step - loss: 0.0054\n",
            "Epoch 27/100\n",
            "153/153 [==============================] - 9s 61ms/step - loss: 0.0053\n",
            "Epoch 28/100\n",
            "153/153 [==============================] - 9s 61ms/step - loss: 0.0049\n",
            "Epoch 29/100\n",
            "153/153 [==============================] - 9s 61ms/step - loss: 0.0050\n",
            "Epoch 30/100\n",
            "153/153 [==============================] - 9s 61ms/step - loss: 0.0046\n",
            "Epoch 31/100\n",
            "153/153 [==============================] - 9s 61ms/step - loss: 0.0046\n",
            "Epoch 32/100\n",
            "153/153 [==============================] - 9s 61ms/step - loss: 0.0042\n",
            "Epoch 33/100\n",
            "153/153 [==============================] - 9s 61ms/step - loss: 0.0041\n",
            "Epoch 34/100\n",
            "153/153 [==============================] - 9s 61ms/step - loss: 0.0039\n",
            "Epoch 35/100\n",
            "153/153 [==============================] - 9s 61ms/step - loss: 0.0039\n",
            "Epoch 36/100\n",
            "153/153 [==============================] - 9s 61ms/step - loss: 0.0039\n",
            "Epoch 37/100\n",
            "153/153 [==============================] - 9s 61ms/step - loss: 0.0037\n",
            "Epoch 38/100\n",
            "153/153 [==============================] - 9s 61ms/step - loss: 0.0036\n",
            "Epoch 39/100\n",
            "153/153 [==============================] - 9s 61ms/step - loss: 0.0033\n",
            "Epoch 40/100\n",
            "153/153 [==============================] - 9s 61ms/step - loss: 0.0031\n",
            "Epoch 41/100\n",
            "153/153 [==============================] - 9s 61ms/step - loss: 0.0030\n",
            "Epoch 42/100\n",
            "153/153 [==============================] - 9s 61ms/step - loss: 0.0032\n",
            "Epoch 43/100\n",
            "153/153 [==============================] - 9s 61ms/step - loss: 0.0031\n",
            "Epoch 44/100\n",
            "153/153 [==============================] - 9s 61ms/step - loss: 0.0031\n",
            "Epoch 45/100\n",
            "153/153 [==============================] - 9s 61ms/step - loss: 0.0026\n",
            "Epoch 46/100\n",
            "153/153 [==============================] - 9s 61ms/step - loss: 0.0026\n",
            "Epoch 47/100\n",
            "153/153 [==============================] - 9s 61ms/step - loss: 0.0028\n",
            "Epoch 48/100\n",
            "153/153 [==============================] - 9s 62ms/step - loss: 0.0029\n",
            "Epoch 49/100\n",
            "153/153 [==============================] - 9s 61ms/step - loss: 0.0028\n",
            "Epoch 50/100\n",
            "153/153 [==============================] - 9s 61ms/step - loss: 0.0028\n",
            "Epoch 51/100\n",
            "153/153 [==============================] - 9s 61ms/step - loss: 0.0026\n",
            "Epoch 52/100\n",
            "153/153 [==============================] - 9s 61ms/step - loss: 0.0026\n",
            "Epoch 53/100\n",
            "153/153 [==============================] - 9s 61ms/step - loss: 0.0026\n",
            "Epoch 54/100\n",
            "153/153 [==============================] - 9s 61ms/step - loss: 0.0026\n",
            "Epoch 55/100\n",
            "153/153 [==============================] - 9s 61ms/step - loss: 0.0026\n",
            "Epoch 56/100\n",
            "153/153 [==============================] - 9s 61ms/step - loss: 0.0025\n",
            "Epoch 57/100\n",
            "153/153 [==============================] - 9s 61ms/step - loss: 0.0025\n",
            "Epoch 58/100\n",
            "153/153 [==============================] - 9s 61ms/step - loss: 0.0024\n",
            "Epoch 59/100\n",
            "153/153 [==============================] - 9s 61ms/step - loss: 0.0024\n",
            "Epoch 60/100\n",
            "153/153 [==============================] - 9s 61ms/step - loss: 0.0026\n",
            "Epoch 61/100\n",
            "153/153 [==============================] - 9s 61ms/step - loss: 0.0024\n",
            "Epoch 62/100\n",
            "153/153 [==============================] - 9s 61ms/step - loss: 0.0023\n",
            "Epoch 63/100\n",
            "153/153 [==============================] - 9s 62ms/step - loss: 0.0024\n",
            "Epoch 64/100\n",
            "153/153 [==============================] - 9s 61ms/step - loss: 0.0024\n",
            "Epoch 65/100\n",
            "153/153 [==============================] - 9s 62ms/step - loss: 0.0024\n",
            "Epoch 66/100\n",
            "153/153 [==============================] - 9s 62ms/step - loss: 0.0022\n",
            "Epoch 67/100\n",
            "153/153 [==============================] - 9s 61ms/step - loss: 0.0021\n",
            "Epoch 68/100\n",
            "153/153 [==============================] - 9s 61ms/step - loss: 0.0022\n",
            "Epoch 69/100\n",
            "153/153 [==============================] - 9s 61ms/step - loss: 0.0024\n",
            "Epoch 70/100\n",
            "153/153 [==============================] - 9s 61ms/step - loss: 0.0023\n",
            "Epoch 71/100\n",
            "153/153 [==============================] - 9s 61ms/step - loss: 0.0022\n",
            "Epoch 72/100\n",
            "153/153 [==============================] - 9s 61ms/step - loss: 0.0021\n",
            "Epoch 73/100\n",
            "153/153 [==============================] - 9s 61ms/step - loss: 0.0021\n",
            "Epoch 74/100\n",
            "153/153 [==============================] - 9s 61ms/step - loss: 0.0023\n",
            "Epoch 75/100\n",
            "153/153 [==============================] - 9s 61ms/step - loss: 0.0021\n",
            "Epoch 76/100\n",
            "153/153 [==============================] - 9s 62ms/step - loss: 0.0022\n",
            "Epoch 77/100\n",
            "153/153 [==============================] - 9s 61ms/step - loss: 0.0022\n",
            "Epoch 78/100\n",
            "153/153 [==============================] - 9s 61ms/step - loss: 0.0022\n",
            "Epoch 79/100\n",
            "153/153 [==============================] - 9s 61ms/step - loss: 0.0020\n",
            "Epoch 80/100\n",
            "153/153 [==============================] - 9s 61ms/step - loss: 0.0023\n",
            "Epoch 81/100\n",
            "153/153 [==============================] - 9s 61ms/step - loss: 0.0021\n",
            "Epoch 82/100\n",
            "153/153 [==============================] - 9s 61ms/step - loss: 0.0020\n",
            "Epoch 83/100\n",
            "153/153 [==============================] - 9s 61ms/step - loss: 0.0020\n",
            "Epoch 84/100\n",
            "153/153 [==============================] - 9s 61ms/step - loss: 0.0019\n",
            "Epoch 85/100\n",
            "153/153 [==============================] - 9s 61ms/step - loss: 0.0018\n",
            "Epoch 86/100\n",
            "153/153 [==============================] - 9s 61ms/step - loss: 0.0019\n",
            "Epoch 87/100\n",
            "153/153 [==============================] - 9s 61ms/step - loss: 0.0022\n",
            "Epoch 88/100\n",
            "153/153 [==============================] - 9s 61ms/step - loss: 0.0021\n",
            "Epoch 89/100\n",
            "153/153 [==============================] - 9s 61ms/step - loss: 0.0020\n",
            "Epoch 90/100\n",
            "153/153 [==============================] - 9s 61ms/step - loss: 0.0021\n",
            "Epoch 91/100\n",
            "153/153 [==============================] - 9s 61ms/step - loss: 0.0021\n",
            "Epoch 92/100\n",
            "153/153 [==============================] - 9s 61ms/step - loss: 0.0020\n",
            "Epoch 93/100\n",
            "153/153 [==============================] - 9s 61ms/step - loss: 0.0018\n",
            "Epoch 94/100\n",
            "153/153 [==============================] - 9s 61ms/step - loss: 0.0020\n",
            "Epoch 95/100\n",
            "153/153 [==============================] - 9s 61ms/step - loss: 0.0020\n",
            "Epoch 96/100\n",
            "153/153 [==============================] - 9s 61ms/step - loss: 0.0021\n",
            "Epoch 97/100\n",
            "153/153 [==============================] - 9s 61ms/step - loss: 0.0019\n",
            "Epoch 98/100\n",
            "153/153 [==============================] - 9s 61ms/step - loss: 0.0021\n",
            "Epoch 99/100\n",
            "153/153 [==============================] - 9s 61ms/step - loss: 0.0019\n",
            "Epoch 100/100\n",
            "153/153 [==============================] - 9s 61ms/step - loss: 0.0019\n"
          ],
          "name": "stdout"
        },
        {
          "output_type": "execute_result",
          "data": {
            "text/plain": [
              "<tensorflow.python.keras.callbacks.History at 0x7ffa44fa1ad0>"
            ]
          },
          "metadata": {
            "tags": []
          },
          "execution_count": 0
        }
      ]
    },
    {
      "cell_type": "markdown",
      "metadata": {
        "id": "0fHbHC8NkXse"
      },
      "source": [
        "# Create predictions dataset"
      ]
    },
    {
      "cell_type": "code",
      "metadata": {
        "colab": {
          "base_uri": "https://localhost:8080/"
        },
        "id": "MfAMW5pw7HB4",
        "outputId": "cfc4ce71-51d0-49c0-9954-ab5a63a04256"
      },
      "source": [
        "Df_Total = pd.concat((NewDataSet[[\"Value\"]], TestData[[\"Value\"]]), axis=0)"
      ],
      "execution_count": null,
      "outputs": [
        {
          "output_type": "execute_result",
          "data": {
            "text/plain": [
              "(5091, 1)"
            ]
          },
          "metadata": {
            "tags": []
          },
          "execution_count": 29
        }
      ]
    },
    {
      "cell_type": "code",
      "metadata": {
        "colab": {
          "base_uri": "https://localhost:8080/"
        },
        "id": "wYRftuZM7Zmg",
        "outputId": "0cdbc904-6137-4e64-aedd-6c53550c2d98"
      },
      "source": [
        "inputs = Df_Total[len(Df_Total) - len(TestData) - 60:].values"
      ],
      "execution_count": null,
      "outputs": [
        {
          "output_type": "execute_result",
          "data": {
            "text/plain": [
              "(160, 1)"
            ]
          },
          "metadata": {
            "tags": []
          },
          "execution_count": 30
        }
      ]
    },
    {
      "cell_type": "code",
      "metadata": {
        "id": "58EgS4cesO85"
      },
      "source": [
        "\n",
        "inputs = Df_Total[len(Df_Total) - len(TestData) - 60:].values\n",
        "inputs = inputs.reshape(-1,1)\n",
        "inputs = sc.transform(inputs)\n",
        "\n",
        "X_test = []\n",
        "for i in range(60, 160):\n",
        "    X_test.append(inputs[i-60:i])\n",
        "    \n",
        "X_test = np.array(X_test)\n",
        "\n",
        "X_test = np.reshape(X_test, (X_test.shape[0], X_test.shape[1], 1))\n",
        "\n",
        "predicted = regressor.predict(X_test)\n",
        "\n",
        "# Do inverse Transformation to get Values \n",
        "predicted = sc.inverse_transform(predicted)"
      ],
      "execution_count": null,
      "outputs": []
    },
    {
      "cell_type": "code",
      "metadata": {
        "id": "e7jlYvpjsn64"
      },
      "source": [
        "True_MegaWatt = TestData[\"Value\"].to_list()\n",
        "Predicted_MegaWatt  = predicted\n",
        "dates = TestData.index.to_list()"
      ],
      "execution_count": null,
      "outputs": []
    },
    {
      "cell_type": "code",
      "metadata": {
        "id": "ZxVBIhuLsp6w"
      },
      "source": [
        "Machine_Df = pd.DataFrame(data={\n",
        "    \"Date\":dates,\n",
        "    \"TrueMegaWatt\": True_MegaWatt,\n",
        "    \"PredictedMeagWatt\":[x[0] for x in Predicted_MegaWatt ]\n",
        "})"
      ],
      "execution_count": null,
      "outputs": []
    },
    {
      "cell_type": "code",
      "metadata": {
        "colab": {
          "base_uri": "https://localhost:8080/",
          "height": 391
        },
        "id": "1-JXH6dv7nfC",
        "outputId": "006dc7d3-8d90-40d6-e909-0272971986ae"
      },
      "source": [
        "Machine_Df"
      ],
      "execution_count": null,
      "outputs": [
        {
          "output_type": "execute_result",
          "data": {
            "text/html": [
              "<div>\n",
              "<style scoped>\n",
              "    .dataframe tbody tr th:only-of-type {\n",
              "        vertical-align: middle;\n",
              "    }\n",
              "\n",
              "    .dataframe tbody tr th {\n",
              "        vertical-align: top;\n",
              "    }\n",
              "\n",
              "    .dataframe thead th {\n",
              "        text-align: right;\n",
              "    }\n",
              "</style>\n",
              "<table border=\"1\" class=\"dataframe\">\n",
              "  <thead>\n",
              "    <tr style=\"text-align: right;\">\n",
              "      <th></th>\n",
              "      <th>Date</th>\n",
              "      <th>TrueMegaWatt</th>\n",
              "      <th>PredictedMeagWatt</th>\n",
              "    </tr>\n",
              "  </thead>\n",
              "  <tbody>\n",
              "    <tr>\n",
              "      <th>0</th>\n",
              "      <td>2019-05-24</td>\n",
              "      <td>6048.250000</td>\n",
              "      <td>5405.406250</td>\n",
              "    </tr>\n",
              "    <tr>\n",
              "      <th>1</th>\n",
              "      <td>2019-05-25</td>\n",
              "      <td>5517.458333</td>\n",
              "      <td>6724.579102</td>\n",
              "    </tr>\n",
              "    <tr>\n",
              "      <th>2</th>\n",
              "      <td>2019-05-26</td>\n",
              "      <td>4940.000000</td>\n",
              "      <td>5902.499512</td>\n",
              "    </tr>\n",
              "    <tr>\n",
              "      <th>3</th>\n",
              "      <td>2019-05-27</td>\n",
              "      <td>5898.875000</td>\n",
              "      <td>5406.529785</td>\n",
              "    </tr>\n",
              "    <tr>\n",
              "      <th>4</th>\n",
              "      <td>2019-05-28</td>\n",
              "      <td>6090.250000</td>\n",
              "      <td>6126.392578</td>\n",
              "    </tr>\n",
              "    <tr>\n",
              "      <th>...</th>\n",
              "      <td>...</td>\n",
              "      <td>...</td>\n",
              "      <td>...</td>\n",
              "    </tr>\n",
              "    <tr>\n",
              "      <th>95</th>\n",
              "      <td>2019-08-27</td>\n",
              "      <td>6676.833333</td>\n",
              "      <td>6671.380371</td>\n",
              "    </tr>\n",
              "    <tr>\n",
              "      <th>96</th>\n",
              "      <td>2019-08-28</td>\n",
              "      <td>6674.333333</td>\n",
              "      <td>6699.192871</td>\n",
              "    </tr>\n",
              "    <tr>\n",
              "      <th>97</th>\n",
              "      <td>2019-08-29</td>\n",
              "      <td>6529.041667</td>\n",
              "      <td>6709.097168</td>\n",
              "    </tr>\n",
              "    <tr>\n",
              "      <th>98</th>\n",
              "      <td>2019-08-30</td>\n",
              "      <td>6588.750000</td>\n",
              "      <td>6471.020996</td>\n",
              "    </tr>\n",
              "    <tr>\n",
              "      <th>99</th>\n",
              "      <td>2019-08-31</td>\n",
              "      <td>6067.000000</td>\n",
              "      <td>6060.228516</td>\n",
              "    </tr>\n",
              "  </tbody>\n",
              "</table>\n",
              "<p>100 rows × 3 columns</p>\n",
              "</div>"
            ],
            "text/plain": [
              "         Date  TrueMegaWatt  PredictedMeagWatt\n",
              "0  2019-05-24   6048.250000        5405.406250\n",
              "1  2019-05-25   5517.458333        6724.579102\n",
              "2  2019-05-26   4940.000000        5902.499512\n",
              "3  2019-05-27   5898.875000        5406.529785\n",
              "4  2019-05-28   6090.250000        6126.392578\n",
              "..        ...           ...                ...\n",
              "95 2019-08-27   6676.833333        6671.380371\n",
              "96 2019-08-28   6674.333333        6699.192871\n",
              "97 2019-08-29   6529.041667        6709.097168\n",
              "98 2019-08-30   6588.750000        6471.020996\n",
              "99 2019-08-31   6067.000000        6060.228516\n",
              "\n",
              "[100 rows x 3 columns]"
            ]
          },
          "metadata": {
            "tags": []
          },
          "execution_count": 34
        }
      ]
    },
    {
      "cell_type": "markdown",
      "metadata": {
        "id": "JyV5NJ6rkcQ6"
      },
      "source": [
        "# Visualise results"
      ]
    },
    {
      "cell_type": "code",
      "metadata": {
        "colab": {
          "base_uri": "https://localhost:8080/",
          "height": 333
        },
        "id": "2Ecn98CLsq4f",
        "outputId": "98acbef3-9440-4df5-93e6-146951119ee2"
      },
      "source": [
        "plt.style.use('seaborn-pastel')\n",
        "fig = plt.figure()\n",
        "\n",
        "ax1= fig.add_subplot(111)\n",
        "\n",
        "x = dates\n",
        "y = True_MegaWatt\n",
        "\n",
        "y1 = Predicted_MegaWatt\n",
        "\n",
        "plt.plot(x,y, color=\"green\")\n",
        "plt.plot(x,y1, color=\"red\")\n",
        "# beautify the x-labels\n",
        "plt.gcf().autofmt_xdate()\n",
        "plt.xlabel('Dates')\n",
        "plt.ylabel(\"Power in MW\")\n",
        "plt.title(\"Machine Learned the Pattern Predicting Future Values \")\n",
        "plt.legend()"
      ],
      "execution_count": null,
      "outputs": [
        {
          "output_type": "stream",
          "text": [
            "No handles with labels found to put in legend.\n"
          ],
          "name": "stderr"
        },
        {
          "output_type": "execute_result",
          "data": {
            "text/plain": [
              "<matplotlib.legend.Legend at 0x7f27dbc752d0>"
            ]
          },
          "metadata": {
            "tags": []
          },
          "execution_count": 35
        },
        {
          "output_type": "display_data",
          "data": {
            "image/png": "[encoded data removed]",
            "text/plain": [
              "<Figure size 432x288 with 1 Axes>"
            ]
          },
          "metadata": {
            "tags": []
          }
        }
      ]
    },
    {
      "cell_type": "code",
      "metadata": {
        "id": "NhJRWeMu8ZYI"
      },
      "source": [
        ""
      ],
      "execution_count": null,
      "outputs": []
    },
    {
      "cell_type": "code",
      "metadata": {
        "id": "PnKqyR038Zca"
      },
      "source": [
        ""
      ],
      "execution_count": null,
      "outputs": []
    }
  ]
}